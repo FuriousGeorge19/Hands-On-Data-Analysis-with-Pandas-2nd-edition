{
 "cells": [
  {
   "cell_type": "markdown",
   "metadata": {},
   "source": [
    "# Checking your setup\n",
    "Run through this notebook to make sure your environment is properly setup. Be sure to launch Jupyter from inside the virtual environment."
   ]
  },
  {
   "cell_type": "code",
   "execution_count": 1,
   "metadata": {},
   "outputs": [
    {
     "name": "stdout",
     "output_type": "stream",
     "text": [
      "Using Python in /Users/joemirza/opt/anaconda3:\n",
      "\u001b[42m[ OK ]\u001b[0m Python is version 3.8.2 (default, Mar 26 2020, 10:43:30) \n",
      "[Clang 4.0.1 (tags/RELEASE_401/final)]\n",
      "\n",
      "\u001b[41m[FAIL]\u001b[0m graphviz version 0.14.1 is required, but 0.16 installed.\n",
      "\u001b[41m[FAIL]\u001b[0m imblearn not installed.\n",
      "\u001b[41m[FAIL]\u001b[0m ipympl not installed.\n",
      "\u001b[41m[FAIL]\u001b[0m jupyterlab version 3.0.4 is required, but 2.2.2 installed.\n",
      "\u001b[41m[FAIL]\u001b[0m matplotlib version 3.3.2 is required, but 3.2.2 installed.\n",
      "\u001b[41m[FAIL]\u001b[0m numpy version >= 1.19.2 and <= 1.19.4 is required, but 1.19.1 installed.\n",
      "\u001b[41m[FAIL]\u001b[0m pandas version 1.2.0 is required, but 1.0.5 installed.\n",
      "\u001b[42m[ OK ]\u001b[0m requests\n",
      "\u001b[41m[FAIL]\u001b[0m sklearn version 0.23.2 is required, but 0.24.0 installed.\n",
      "\u001b[42m[ OK ]\u001b[0m scipy\n",
      "\u001b[41m[FAIL]\u001b[0m seaborn version 0.11.0 is required, but 0.10.1 installed.\n",
      "\u001b[41m[FAIL]\u001b[0m sqlalchemy not installed.\n",
      "\u001b[42m[ OK ]\u001b[0m statsmodels\n",
      "\u001b[42m[ OK ]\u001b[0m wheel\n",
      "\u001b[41m[FAIL]\u001b[0m login_attempt_simulator not installed.\n",
      "\u001b[41m[FAIL]\u001b[0m ml_utils not installed.\n",
      "\u001b[41m[FAIL]\u001b[0m stock_analysis not installed.\n",
      "\u001b[41m[FAIL]\u001b[0m visual_aids not installed.\n"
     ]
    }
   ],
   "source": [
    "from check_environment import run_checks\n",
    "run_checks()"
   ]
  },
  {
   "cell_type": "markdown",
   "metadata": {},
   "source": [
    "*Note: Adapted from Andreas Mueller's [`check_env.ipynb` notebook](https://github.com/amueller/ml-workshop-1-of-4/blob/master/check_env.ipynb).*\n",
    "\n",
    "<hr>\n",
    "<div style=\"overflow: hidden; margin-bottom: 10px;\">\n",
    "    <div style=\"float: left;\">\n",
    "         <a href=\"./introduction_to_data_analysis.ipynb\">\n",
    "            <button>&#8592; Introduction to Data Analysis</button>\n",
    "        </a>\n",
    "    </div>\n",
    "    <div style=\"float: right;\">\n",
    "        <a href=\"./python_101.ipynb\">\n",
    "            <button>Python 101</button>\n",
    "        </a>\n",
    "        <a href=\"./exercises.ipynb\">\n",
    "            <button>Exercises &#8594;</button>\n",
    "        </a>\n",
    "    </div>\n",
    "</div>\n",
    "<hr>"
   ]
  },
  {
   "cell_type": "code",
   "execution_count": 3,
   "metadata": {},
   "outputs": [
    {
     "name": "stdout",
     "output_type": "stream",
     "text": [
      "\u001b[31mERROR: Invalid requirement: './visual-aids' (from line 18 of ../requirements.txt)\n",
      "Hint: It looks like a path. File './visual-aids' does not exist.\u001b[0m\u001b[31m\n",
      "\u001b[0m"
     ]
    }
   ],
   "source": [
    "!pip3 install -r ../requirements.txt"
   ]
  },
  {
   "cell_type": "code",
   "execution_count": 2,
   "metadata": {},
   "outputs": [
    {
     "name": "stdout",
     "output_type": "stream",
     "text": [
      "README.md                           exercises.ipynb\n",
      "\u001b[34m__pycache__\u001b[m\u001b[m                         introduction_to_data_analysis.ipynb\n",
      "check_environment.py                python_101.ipynb\n",
      "checking_your_setup.ipynb\n"
     ]
    }
   ],
   "source": [
    "!ls"
   ]
  },
  {
   "cell_type": "code",
   "execution_count": null,
   "metadata": {},
   "outputs": [],
   "source": []
  }
 ],
 "metadata": {
  "kernelspec": {
   "display_name": "book_env",
   "language": "python",
   "name": "book_env"
  },
  "language_info": {
   "codemirror_mode": {
    "name": "ipython",
    "version": 3
   },
   "file_extension": ".py",
   "mimetype": "text/x-python",
   "name": "python",
   "nbconvert_exporter": "python",
   "pygments_lexer": "ipython3",
   "version": "3.8.2"
  }
 },
 "nbformat": 4,
 "nbformat_minor": 4
}
