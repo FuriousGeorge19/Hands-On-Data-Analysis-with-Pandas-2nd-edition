{
 "cells": [
  {
   "cell_type": "markdown",
   "metadata": {},
   "source": [
    "# Checking your setup\n",
    "Run through this notebook to make sure your environment is properly setup. Be sure to launch Jupyter from inside the virtual environment."
   ]
  },
  {
   "cell_type": "code",
   "execution_count": 4,
   "metadata": {},
   "outputs": [
    {
     "name": "stdout",
     "output_type": "stream",
     "text": [
      "Using Python in /Users/joemirza/opt/anaconda3:\n",
      "\u001b[42m[ OK ]\u001b[0m Python is version 3.8.2 (default, Mar 26 2020, 10:43:30) \n",
      "[Clang 4.0.1 (tags/RELEASE_401/final)]\n",
      "\n",
      "\u001b[41m[FAIL]\u001b[0m graphviz version 0.14.1 is required, but 0.16 installed.\n",
      "\u001b[41m[FAIL]\u001b[0m imblearn not installed.\n",
      "\u001b[41m[FAIL]\u001b[0m ipympl not installed.\n",
      "\u001b[41m[FAIL]\u001b[0m jupyterlab version 3.0.4 is required, but 2.2.2 installed.\n",
      "\u001b[41m[FAIL]\u001b[0m matplotlib version 3.3.2 is required, but 3.2.2 installed.\n",
      "\u001b[41m[FAIL]\u001b[0m numpy version >= 1.19.2 and <= 1.19.4 is required, but 1.19.1 installed.\n",
      "\u001b[41m[FAIL]\u001b[0m pandas version 1.2.0 is required, but 1.0.5 installed.\n",
      "\u001b[42m[ OK ]\u001b[0m requests\n",
      "\u001b[41m[FAIL]\u001b[0m sklearn version 0.23.2 is required, but 0.24.0 installed.\n",
      "\u001b[42m[ OK ]\u001b[0m scipy\n",
      "\u001b[41m[FAIL]\u001b[0m seaborn version 0.11.0 is required, but 0.10.1 installed.\n",
      "\u001b[41m[FAIL]\u001b[0m sqlalchemy not installed.\n",
      "\u001b[42m[ OK ]\u001b[0m statsmodels\n",
      "\u001b[42m[ OK ]\u001b[0m wheel\n",
      "\u001b[41m[FAIL]\u001b[0m login_attempt_simulator not installed.\n",
      "\u001b[41m[FAIL]\u001b[0m ml_utils not installed.\n",
      "\u001b[41m[FAIL]\u001b[0m stock_analysis not installed.\n",
      "\u001b[41m[FAIL]\u001b[0m visual_aids not installed.\n"
     ]
    }
   ],
   "source": [
    "from check_environment import run_checks\n",
    "run_checks()"
   ]
  },
  {
   "cell_type": "markdown",
   "metadata": {},
   "source": [
    "*Note: Adapted from Andreas Mueller's [`check_env.ipynb` notebook](https://github.com/amueller/ml-workshop-1-of-4/blob/master/check_env.ipynb).*\n",
    "\n",
    "<hr>\n",
    "<div style=\"overflow: hidden; margin-bottom: 10px;\">\n",
    "    <div style=\"float: left;\">\n",
    "         <a href=\"./introduction_to_data_analysis.ipynb\">\n",
    "            <button>&#8592; Introduction to Data Analysis</button>\n",
    "        </a>\n",
    "    </div>\n",
    "    <div style=\"float: right;\">\n",
    "        <a href=\"./python_101.ipynb\">\n",
    "            <button>Python 101</button>\n",
    "        </a>\n",
    "        <a href=\"./exercises.ipynb\">\n",
    "            <button>Exercises &#8594;</button>\n",
    "        </a>\n",
    "    </div>\n",
    "</div>\n",
    "<hr>"
   ]
  },
  {
   "cell_type": "code",
   "execution_count": 2,
   "metadata": {},
   "outputs": [
    {
     "name": "stdout",
     "output_type": "stream",
     "text": [
      "Collecting git+https://github.com/stefmolin/login-attempt-simulator.git@2nd_edition (from -r ../requirements.txt (line 15))\n",
      "  Cloning https://github.com/stefmolin/login-attempt-simulator.git (to revision 2nd_edition) to /private/var/folders/19/vbjy9ddx2471mxjcgc7_x85c0000gn/T/pip-req-build-f6s6w91m\n",
      "  Running command git clone --filter=blob:none --quiet https://github.com/stefmolin/login-attempt-simulator.git /private/var/folders/19/vbjy9ddx2471mxjcgc7_x85c0000gn/T/pip-req-build-f6s6w91m\n",
      "  Running command git checkout -q 76e065a122343ebdd51c1cae98fbb8285411c0ff\n",
      "  Resolved https://github.com/stefmolin/login-attempt-simulator.git to commit 76e065a122343ebdd51c1cae98fbb8285411c0ff\n",
      "  Preparing metadata (setup.py) ... \u001b[?25ldone\n",
      "\u001b[?25hCollecting git+https://github.com/stefmolin/ml-utils.git@2nd_edition (from -r ../requirements.txt (line 16))\n",
      "  Cloning https://github.com/stefmolin/ml-utils.git (to revision 2nd_edition) to /private/var/folders/19/vbjy9ddx2471mxjcgc7_x85c0000gn/T/pip-req-build-ojra7uut\n",
      "  Running command git clone --filter=blob:none --quiet https://github.com/stefmolin/ml-utils.git /private/var/folders/19/vbjy9ddx2471mxjcgc7_x85c0000gn/T/pip-req-build-ojra7uut\n",
      "  Running command git checkout -q 90ec708f1b9333a47c29d6b5a1fef13f409fbaea\n",
      "  Resolved https://github.com/stefmolin/ml-utils.git to commit 90ec708f1b9333a47c29d6b5a1fef13f409fbaea\n",
      "  Preparing metadata (setup.py) ... \u001b[?25ldone\n",
      "\u001b[?25hCollecting git+https://github.com/stefmolin/stock-analysis.git@2nd_edition (from -r ../requirements.txt (line 17))\n",
      "  Cloning https://github.com/stefmolin/stock-analysis.git (to revision 2nd_edition) to /private/var/folders/19/vbjy9ddx2471mxjcgc7_x85c0000gn/T/pip-req-build-gm_yix3h\n",
      "  Running command git clone --filter=blob:none --quiet https://github.com/stefmolin/stock-analysis.git /private/var/folders/19/vbjy9ddx2471mxjcgc7_x85c0000gn/T/pip-req-build-gm_yix3h\n",
      "  Running command git checkout -q a85af035178626c655d1ba04fd51ff6a4461a113\n",
      "  Resolved https://github.com/stefmolin/stock-analysis.git to commit a85af035178626c655d1ba04fd51ff6a4461a113\n",
      "  Preparing metadata (setup.py) ... \u001b[?25ldone\n",
      "\u001b[?25hProcessing ./visual-aids\n",
      "  Preparing metadata (setup.py) ... \u001b[?25ldone\n",
      "\u001b[?25hRequirement already satisfied: graphviz==0.14.1 in ./book_env/lib/python3.8/site-packages (from -r ../requirements.txt (line 1)) (0.14.1)\n",
      "Requirement already satisfied: imbalanced-learn==0.7.0 in ./book_env/lib/python3.8/site-packages (from -r ../requirements.txt (line 2)) (0.7.0)\n",
      "Requirement already satisfied: ipympl==0.6.2 in ./book_env/lib/python3.8/site-packages (from -r ../requirements.txt (line 3)) (0.6.2)\n",
      "Requirement already satisfied: jupyterlab==3.0.4 in ./book_env/lib/python3.8/site-packages (from -r ../requirements.txt (line 4)) (3.0.4)\n",
      "Requirement already satisfied: matplotlib==3.3.2 in ./book_env/lib/python3.8/site-packages (from -r ../requirements.txt (line 5)) (3.3.2)\n",
      "Requirement already satisfied: numpy<=1.19.4,>=1.19.2 in ./book_env/lib/python3.8/site-packages (from -r ../requirements.txt (line 6)) (1.19.4)\n",
      "Requirement already satisfied: pandas==1.2.0 in ./book_env/lib/python3.8/site-packages (from -r ../requirements.txt (line 7)) (1.2.0)\n",
      "Requirement already satisfied: requests==2.24.0 in ./book_env/lib/python3.8/site-packages (from -r ../requirements.txt (line 8)) (2.24.0)\n",
      "Requirement already satisfied: scikit-learn==0.23.2 in ./book_env/lib/python3.8/site-packages (from -r ../requirements.txt (line 9)) (0.23.2)\n",
      "Requirement already satisfied: scipy<=1.7.3,>=1.5.0 in ./book_env/lib/python3.8/site-packages (from -r ../requirements.txt (line 10)) (1.7.3)\n",
      "Requirement already satisfied: seaborn==0.11.0 in ./book_env/lib/python3.8/site-packages (from -r ../requirements.txt (line 11)) (0.11.0)\n",
      "Requirement already satisfied: sqlalchemy<=1.3.20,>=1.3.19 in ./book_env/lib/python3.8/site-packages (from -r ../requirements.txt (line 12)) (1.3.20)\n",
      "Requirement already satisfied: statsmodels<=0.12.1,>=0.11.1 in ./book_env/lib/python3.8/site-packages (from -r ../requirements.txt (line 13)) (0.12.1)\n",
      "Requirement already satisfied: wheel in ./book_env/lib/python3.8/site-packages (from -r ../requirements.txt (line 14)) (0.37.1)\n",
      "Requirement already satisfied: joblib>=0.11 in ./book_env/lib/python3.8/site-packages (from imbalanced-learn==0.7.0->-r ../requirements.txt (line 2)) (1.1.0)\n",
      "Requirement already satisfied: ipykernel>=4.7 in ./book_env/lib/python3.8/site-packages (from ipympl==0.6.2->-r ../requirements.txt (line 3)) (6.15.2)\n",
      "Requirement already satisfied: ipywidgets>=7.6.0 in ./book_env/lib/python3.8/site-packages (from ipympl==0.6.2->-r ../requirements.txt (line 3)) (8.0.2)\n",
      "Requirement already satisfied: packaging in ./book_env/lib/python3.8/site-packages (from jupyterlab==3.0.4->-r ../requirements.txt (line 4)) (21.3)\n",
      "Requirement already satisfied: tornado>=6.1.0 in ./book_env/lib/python3.8/site-packages (from jupyterlab==3.0.4->-r ../requirements.txt (line 4)) (6.2)\n",
      "Requirement already satisfied: jinja2>=2.10 in ./book_env/lib/python3.8/site-packages (from jupyterlab==3.0.4->-r ../requirements.txt (line 4)) (3.1.2)\n",
      "Requirement already satisfied: ipython in ./book_env/lib/python3.8/site-packages (from jupyterlab==3.0.4->-r ../requirements.txt (line 4)) (8.5.0)\n",
      "Requirement already satisfied: jupyter-server~=1.2 in ./book_env/lib/python3.8/site-packages (from jupyterlab==3.0.4->-r ../requirements.txt (line 4)) (1.18.1)\n",
      "Requirement already satisfied: jupyterlab-server~=2.0 in ./book_env/lib/python3.8/site-packages (from jupyterlab==3.0.4->-r ../requirements.txt (line 4)) (2.15.1)\n",
      "Requirement already satisfied: jupyter-core in ./book_env/lib/python3.8/site-packages (from jupyterlab==3.0.4->-r ../requirements.txt (line 4)) (4.11.1)\n",
      "Requirement already satisfied: nbclassic~=0.2 in ./book_env/lib/python3.8/site-packages (from jupyterlab==3.0.4->-r ../requirements.txt (line 4)) (0.4.3)\n",
      "Requirement already satisfied: pyparsing!=2.0.4,!=2.1.2,!=2.1.6,>=2.0.3 in ./book_env/lib/python3.8/site-packages (from matplotlib==3.3.2->-r ../requirements.txt (line 5)) (3.0.9)\n",
      "Requirement already satisfied: python-dateutil>=2.1 in ./book_env/lib/python3.8/site-packages (from matplotlib==3.3.2->-r ../requirements.txt (line 5)) (2.8.2)\n",
      "Requirement already satisfied: certifi>=2020.06.20 in ./book_env/lib/python3.8/site-packages (from matplotlib==3.3.2->-r ../requirements.txt (line 5)) (2022.6.15.1)\n",
      "Requirement already satisfied: cycler>=0.10 in ./book_env/lib/python3.8/site-packages (from matplotlib==3.3.2->-r ../requirements.txt (line 5)) (0.11.0)\n",
      "Requirement already satisfied: pillow>=6.2.0 in ./book_env/lib/python3.8/site-packages (from matplotlib==3.3.2->-r ../requirements.txt (line 5)) (9.2.0)\n",
      "Requirement already satisfied: kiwisolver>=1.0.1 in ./book_env/lib/python3.8/site-packages (from matplotlib==3.3.2->-r ../requirements.txt (line 5)) (1.4.4)\n",
      "Requirement already satisfied: pytz>=2017.3 in ./book_env/lib/python3.8/site-packages (from pandas==1.2.0->-r ../requirements.txt (line 7)) (2022.2.1)\n",
      "Requirement already satisfied: idna<3,>=2.5 in ./book_env/lib/python3.8/site-packages (from requests==2.24.0->-r ../requirements.txt (line 8)) (2.10)\n",
      "Requirement already satisfied: chardet<4,>=3.0.2 in ./book_env/lib/python3.8/site-packages (from requests==2.24.0->-r ../requirements.txt (line 8)) (3.0.4)\n",
      "Requirement already satisfied: urllib3!=1.25.0,!=1.25.1,<1.26,>=1.21.1 in ./book_env/lib/python3.8/site-packages (from requests==2.24.0->-r ../requirements.txt (line 8)) (1.25.11)\n",
      "Requirement already satisfied: threadpoolctl>=2.0.0 in ./book_env/lib/python3.8/site-packages (from scikit-learn==0.23.2->-r ../requirements.txt (line 9)) (3.1.0)\n",
      "Requirement already satisfied: patsy>=0.5 in ./book_env/lib/python3.8/site-packages (from statsmodels<=0.12.1,>=0.11.1->-r ../requirements.txt (line 13)) (0.5.2)\n",
      "Requirement already satisfied: pandas-datareader>=0.7.0 in ./book_env/lib/python3.8/site-packages (from stock-analysis==0.2->-r ../requirements.txt (line 17)) (0.10.0)\n",
      "Requirement already satisfied: mplfinance>=0.12.7a4 in ./book_env/lib/python3.8/site-packages (from stock-analysis==0.2->-r ../requirements.txt (line 17)) (0.12.9b1)\n",
      "Requirement already satisfied: debugpy>=1.0 in ./book_env/lib/python3.8/site-packages (from ipykernel>=4.7->ipympl==0.6.2->-r ../requirements.txt (line 3)) (1.6.3)\n",
      "Requirement already satisfied: jupyter-client>=6.1.12 in ./book_env/lib/python3.8/site-packages (from ipykernel>=4.7->ipympl==0.6.2->-r ../requirements.txt (line 3)) (7.3.5)\n",
      "Requirement already satisfied: matplotlib-inline>=0.1 in ./book_env/lib/python3.8/site-packages (from ipykernel>=4.7->ipympl==0.6.2->-r ../requirements.txt (line 3)) (0.1.6)\n",
      "Requirement already satisfied: traitlets>=5.1.0 in ./book_env/lib/python3.8/site-packages (from ipykernel>=4.7->ipympl==0.6.2->-r ../requirements.txt (line 3)) (5.3.0)\n",
      "Requirement already satisfied: appnope in ./book_env/lib/python3.8/site-packages (from ipykernel>=4.7->ipympl==0.6.2->-r ../requirements.txt (line 3)) (0.1.3)\n",
      "Requirement already satisfied: nest-asyncio in ./book_env/lib/python3.8/site-packages (from ipykernel>=4.7->ipympl==0.6.2->-r ../requirements.txt (line 3)) (1.5.5)\n",
      "Requirement already satisfied: pyzmq>=17 in ./book_env/lib/python3.8/site-packages (from ipykernel>=4.7->ipympl==0.6.2->-r ../requirements.txt (line 3)) (23.2.1)\n",
      "Requirement already satisfied: psutil in ./book_env/lib/python3.8/site-packages (from ipykernel>=4.7->ipympl==0.6.2->-r ../requirements.txt (line 3)) (5.9.2)\n",
      "Requirement already satisfied: prompt-toolkit<3.1.0,>3.0.1 in ./book_env/lib/python3.8/site-packages (from ipython->jupyterlab==3.0.4->-r ../requirements.txt (line 4)) (3.0.31)\n",
      "Requirement already satisfied: pickleshare in ./book_env/lib/python3.8/site-packages (from ipython->jupyterlab==3.0.4->-r ../requirements.txt (line 4)) (0.7.5)\n",
      "Requirement already satisfied: pygments>=2.4.0 in ./book_env/lib/python3.8/site-packages (from ipython->jupyterlab==3.0.4->-r ../requirements.txt (line 4)) (2.13.0)\n",
      "Requirement already satisfied: stack-data in ./book_env/lib/python3.8/site-packages (from ipython->jupyterlab==3.0.4->-r ../requirements.txt (line 4)) (0.5.0)\n",
      "Requirement already satisfied: backcall in ./book_env/lib/python3.8/site-packages (from ipython->jupyterlab==3.0.4->-r ../requirements.txt (line 4)) (0.2.0)\n",
      "Requirement already satisfied: decorator in ./book_env/lib/python3.8/site-packages (from ipython->jupyterlab==3.0.4->-r ../requirements.txt (line 4)) (5.1.1)\n",
      "Requirement already satisfied: jedi>=0.16 in ./book_env/lib/python3.8/site-packages (from ipython->jupyterlab==3.0.4->-r ../requirements.txt (line 4)) (0.18.1)\n",
      "Requirement already satisfied: pexpect>4.3 in ./book_env/lib/python3.8/site-packages (from ipython->jupyterlab==3.0.4->-r ../requirements.txt (line 4)) (4.8.0)\n",
      "Requirement already satisfied: widgetsnbextension~=4.0 in ./book_env/lib/python3.8/site-packages (from ipywidgets>=7.6.0->ipympl==0.6.2->-r ../requirements.txt (line 3)) (4.0.3)\n",
      "Requirement already satisfied: jupyterlab-widgets~=3.0 in ./book_env/lib/python3.8/site-packages (from ipywidgets>=7.6.0->ipympl==0.6.2->-r ../requirements.txt (line 3)) (3.0.3)\n",
      "Requirement already satisfied: MarkupSafe>=2.0 in ./book_env/lib/python3.8/site-packages (from jinja2>=2.10->jupyterlab==3.0.4->-r ../requirements.txt (line 4)) (2.1.1)\n",
      "Requirement already satisfied: anyio<4,>=3.1.0 in ./book_env/lib/python3.8/site-packages (from jupyter-server~=1.2->jupyterlab==3.0.4->-r ../requirements.txt (line 4)) (3.6.1)\n",
      "Requirement already satisfied: argon2-cffi in ./book_env/lib/python3.8/site-packages (from jupyter-server~=1.2->jupyterlab==3.0.4->-r ../requirements.txt (line 4)) (21.3.0)\n",
      "Requirement already satisfied: prometheus-client in ./book_env/lib/python3.8/site-packages (from jupyter-server~=1.2->jupyterlab==3.0.4->-r ../requirements.txt (line 4)) (0.14.1)\n",
      "Requirement already satisfied: nbformat>=5.2.0 in ./book_env/lib/python3.8/site-packages (from jupyter-server~=1.2->jupyterlab==3.0.4->-r ../requirements.txt (line 4)) (5.4.0)\n",
      "Requirement already satisfied: terminado>=0.8.3 in ./book_env/lib/python3.8/site-packages (from jupyter-server~=1.2->jupyterlab==3.0.4->-r ../requirements.txt (line 4)) (0.15.0)\n",
      "Requirement already satisfied: websocket-client in ./book_env/lib/python3.8/site-packages (from jupyter-server~=1.2->jupyterlab==3.0.4->-r ../requirements.txt (line 4)) (1.4.1)\n",
      "Requirement already satisfied: Send2Trash in ./book_env/lib/python3.8/site-packages (from jupyter-server~=1.2->jupyterlab==3.0.4->-r ../requirements.txt (line 4)) (1.8.0)\n",
      "Requirement already satisfied: nbconvert>=6.4.4 in ./book_env/lib/python3.8/site-packages (from jupyter-server~=1.2->jupyterlab==3.0.4->-r ../requirements.txt (line 4)) (7.0.0)\n",
      "Requirement already satisfied: importlib-metadata>=3.6 in ./book_env/lib/python3.8/site-packages (from jupyterlab-server~=2.0->jupyterlab==3.0.4->-r ../requirements.txt (line 4)) (4.12.0)\n",
      "Requirement already satisfied: babel in ./book_env/lib/python3.8/site-packages (from jupyterlab-server~=2.0->jupyterlab==3.0.4->-r ../requirements.txt (line 4)) (2.10.3)\n",
      "Requirement already satisfied: json5 in ./book_env/lib/python3.8/site-packages (from jupyterlab-server~=2.0->jupyterlab==3.0.4->-r ../requirements.txt (line 4)) (0.9.10)\n",
      "Requirement already satisfied: jsonschema>=3.0.1 in ./book_env/lib/python3.8/site-packages (from jupyterlab-server~=2.0->jupyterlab==3.0.4->-r ../requirements.txt (line 4)) (4.16.0)\n",
      "Requirement already satisfied: ipython-genutils in ./book_env/lib/python3.8/site-packages (from nbclassic~=0.2->jupyterlab==3.0.4->-r ../requirements.txt (line 4)) (0.2.0)\n",
      "Requirement already satisfied: notebook-shim>=0.1.0 in ./book_env/lib/python3.8/site-packages (from nbclassic~=0.2->jupyterlab==3.0.4->-r ../requirements.txt (line 4)) (0.1.0)\n",
      "Requirement already satisfied: lxml in ./book_env/lib/python3.8/site-packages (from pandas-datareader>=0.7.0->stock-analysis==0.2->-r ../requirements.txt (line 17)) (4.9.1)\n",
      "Requirement already satisfied: six in ./book_env/lib/python3.8/site-packages (from patsy>=0.5->statsmodels<=0.12.1,>=0.11.1->-r ../requirements.txt (line 13)) (1.16.0)\n",
      "Requirement already satisfied: sniffio>=1.1 in ./book_env/lib/python3.8/site-packages (from anyio<4,>=3.1.0->jupyter-server~=1.2->jupyterlab==3.0.4->-r ../requirements.txt (line 4)) (1.3.0)\n",
      "Requirement already satisfied: zipp>=0.5 in ./book_env/lib/python3.8/site-packages (from importlib-metadata>=3.6->jupyterlab-server~=2.0->jupyterlab==3.0.4->-r ../requirements.txt (line 4)) (3.8.1)\n",
      "Requirement already satisfied: parso<0.9.0,>=0.8.0 in ./book_env/lib/python3.8/site-packages (from jedi>=0.16->ipython->jupyterlab==3.0.4->-r ../requirements.txt (line 4)) (0.8.3)\n",
      "Requirement already satisfied: pyrsistent!=0.17.0,!=0.17.1,!=0.17.2,>=0.14.0 in ./book_env/lib/python3.8/site-packages (from jsonschema>=3.0.1->jupyterlab-server~=2.0->jupyterlab==3.0.4->-r ../requirements.txt (line 4)) (0.18.1)\n",
      "Requirement already satisfied: importlib-resources>=1.4.0 in ./book_env/lib/python3.8/site-packages (from jsonschema>=3.0.1->jupyterlab-server~=2.0->jupyterlab==3.0.4->-r ../requirements.txt (line 4)) (5.9.0)\n",
      "Requirement already satisfied: attrs>=17.4.0 in ./book_env/lib/python3.8/site-packages (from jsonschema>=3.0.1->jupyterlab-server~=2.0->jupyterlab==3.0.4->-r ../requirements.txt (line 4)) (22.1.0)\n",
      "Requirement already satisfied: pkgutil-resolve-name>=1.3.10 in ./book_env/lib/python3.8/site-packages (from jsonschema>=3.0.1->jupyterlab-server~=2.0->jupyterlab==3.0.4->-r ../requirements.txt (line 4)) (1.3.10)\n",
      "Requirement already satisfied: entrypoints in ./book_env/lib/python3.8/site-packages (from jupyter-client>=6.1.12->ipykernel>=4.7->ipympl==0.6.2->-r ../requirements.txt (line 3)) (0.4)\n",
      "Requirement already satisfied: bleach in ./book_env/lib/python3.8/site-packages (from nbconvert>=6.4.4->jupyter-server~=1.2->jupyterlab==3.0.4->-r ../requirements.txt (line 4)) (5.0.1)\n",
      "Requirement already satisfied: mistune<3,>=2.0.3 in ./book_env/lib/python3.8/site-packages (from nbconvert>=6.4.4->jupyter-server~=1.2->jupyterlab==3.0.4->-r ../requirements.txt (line 4)) (2.0.4)\n",
      "Requirement already satisfied: nbclient>=0.5.0 in ./book_env/lib/python3.8/site-packages (from nbconvert>=6.4.4->jupyter-server~=1.2->jupyterlab==3.0.4->-r ../requirements.txt (line 4)) (0.6.8)\n",
      "Requirement already satisfied: defusedxml in ./book_env/lib/python3.8/site-packages (from nbconvert>=6.4.4->jupyter-server~=1.2->jupyterlab==3.0.4->-r ../requirements.txt (line 4)) (0.7.1)\n",
      "Requirement already satisfied: pandocfilters>=1.4.1 in ./book_env/lib/python3.8/site-packages (from nbconvert>=6.4.4->jupyter-server~=1.2->jupyterlab==3.0.4->-r ../requirements.txt (line 4)) (1.5.0)\n",
      "Requirement already satisfied: tinycss2 in ./book_env/lib/python3.8/site-packages (from nbconvert>=6.4.4->jupyter-server~=1.2->jupyterlab==3.0.4->-r ../requirements.txt (line 4)) (1.1.1)\n",
      "Requirement already satisfied: beautifulsoup4 in ./book_env/lib/python3.8/site-packages (from nbconvert>=6.4.4->jupyter-server~=1.2->jupyterlab==3.0.4->-r ../requirements.txt (line 4)) (4.11.1)\n",
      "Requirement already satisfied: jupyterlab-pygments in ./book_env/lib/python3.8/site-packages (from nbconvert>=6.4.4->jupyter-server~=1.2->jupyterlab==3.0.4->-r ../requirements.txt (line 4)) (0.2.2)\n",
      "Requirement already satisfied: fastjsonschema in ./book_env/lib/python3.8/site-packages (from nbformat>=5.2.0->jupyter-server~=1.2->jupyterlab==3.0.4->-r ../requirements.txt (line 4)) (2.16.1)\n",
      "Requirement already satisfied: ptyprocess>=0.5 in ./book_env/lib/python3.8/site-packages (from pexpect>4.3->ipython->jupyterlab==3.0.4->-r ../requirements.txt (line 4)) (0.7.0)\n",
      "Requirement already satisfied: wcwidth in ./book_env/lib/python3.8/site-packages (from prompt-toolkit<3.1.0,>3.0.1->ipython->jupyterlab==3.0.4->-r ../requirements.txt (line 4)) (0.2.5)\n",
      "Requirement already satisfied: argon2-cffi-bindings in ./book_env/lib/python3.8/site-packages (from argon2-cffi->jupyter-server~=1.2->jupyterlab==3.0.4->-r ../requirements.txt (line 4)) (21.2.0)\n",
      "Requirement already satisfied: pure-eval in ./book_env/lib/python3.8/site-packages (from stack-data->ipython->jupyterlab==3.0.4->-r ../requirements.txt (line 4)) (0.2.2)\n",
      "Requirement already satisfied: asttokens in ./book_env/lib/python3.8/site-packages (from stack-data->ipython->jupyterlab==3.0.4->-r ../requirements.txt (line 4)) (2.0.8)\n",
      "Requirement already satisfied: executing in ./book_env/lib/python3.8/site-packages (from stack-data->ipython->jupyterlab==3.0.4->-r ../requirements.txt (line 4)) (1.0.0)\n",
      "Requirement already satisfied: cffi>=1.0.1 in ./book_env/lib/python3.8/site-packages (from argon2-cffi-bindings->argon2-cffi->jupyter-server~=1.2->jupyterlab==3.0.4->-r ../requirements.txt (line 4)) (1.15.1)\n",
      "Requirement already satisfied: soupsieve>1.2 in ./book_env/lib/python3.8/site-packages (from beautifulsoup4->nbconvert>=6.4.4->jupyter-server~=1.2->jupyterlab==3.0.4->-r ../requirements.txt (line 4)) (2.3.2.post1)\n",
      "Requirement already satisfied: webencodings in ./book_env/lib/python3.8/site-packages (from bleach->nbconvert>=6.4.4->jupyter-server~=1.2->jupyterlab==3.0.4->-r ../requirements.txt (line 4)) (0.5.1)\n",
      "Requirement already satisfied: pycparser in ./book_env/lib/python3.8/site-packages (from cffi>=1.0.1->argon2-cffi-bindings->argon2-cffi->jupyter-server~=1.2->jupyterlab==3.0.4->-r ../requirements.txt (line 4)) (2.21)\n",
      "Building wheels for collected packages: visual-aids\n",
      "  Building wheel for visual-aids (setup.py) ... \u001b[?25ldone\n",
      "\u001b[?25h  Created wheel for visual-aids: filename=visual_aids-2.0-py3-none-any.whl size=43140 sha256=15f15cafc3431b9d8b9125293bb3f93ae562b515c1087f1fd24115fc2934dcd8\n",
      "  Stored in directory: /Users/joemirza/Library/Caches/pip/wheels/d2/0a/12/5ca393013cbabd561e26fb0bdc08f77b26c2cd80bcf9df1945\n",
      "Successfully built visual-aids\n",
      "Installing collected packages: visual-aids\n",
      "  Attempting uninstall: visual-aids\n",
      "    Found existing installation: visual-aids 2.0\n",
      "    Uninstalling visual-aids-2.0:\n",
      "      Successfully uninstalled visual-aids-2.0\n",
      "Successfully installed visual-aids-2.0\n"
     ]
    }
   ],
   "source": [
    "!pip3 install -r ../requirements.txt"
   ]
  },
  {
   "cell_type": "code",
   "execution_count": 5,
   "metadata": {},
   "outputs": [
    {
     "name": "stdout",
     "output_type": "stream",
     "text": [
      "Requirement already satisfied: graphviz==0.14.1 in ./book_env/lib/python3.8/site-packages (0.14.1)\n"
     ]
    }
   ],
   "source": [
    "!pip install graphviz==0.14.1"
   ]
  },
  {
   "cell_type": "code",
   "execution_count": 8,
   "metadata": {},
   "outputs": [
    {
     "name": "stdout",
     "output_type": "stream",
     "text": [
      "Requirement already satisfied: imbalanced-learn==0.7.0 in ./book_env/lib/python3.8/site-packages (0.7.0)\n",
      "Requirement already satisfied: joblib>=0.11 in ./book_env/lib/python3.8/site-packages (from imbalanced-learn==0.7.0) (1.1.0)\n",
      "Requirement already satisfied: scikit-learn>=0.23 in ./book_env/lib/python3.8/site-packages (from imbalanced-learn==0.7.0) (0.23.2)\n",
      "Requirement already satisfied: numpy>=1.13.3 in ./book_env/lib/python3.8/site-packages (from imbalanced-learn==0.7.0) (1.19.4)\n",
      "Requirement already satisfied: scipy>=0.19.1 in ./book_env/lib/python3.8/site-packages (from imbalanced-learn==0.7.0) (1.7.3)\n",
      "Requirement already satisfied: threadpoolctl>=2.0.0 in ./book_env/lib/python3.8/site-packages (from scikit-learn>=0.23->imbalanced-learn==0.7.0) (3.1.0)\n"
     ]
    }
   ],
   "source": [
    "!pip install imbalanced-learn==0.7.0"
   ]
  },
  {
   "cell_type": "code",
   "execution_count": 9,
   "metadata": {},
   "outputs": [
    {
     "name": "stdout",
     "output_type": "stream",
     "text": [
      "Requirement already satisfied: ipympl==0.6.2 in ./book_env/lib/python3.8/site-packages (0.6.2)\n",
      "Requirement already satisfied: ipykernel>=4.7 in ./book_env/lib/python3.8/site-packages (from ipympl==0.6.2) (6.15.2)\n",
      "Requirement already satisfied: matplotlib>=2.0.0 in ./book_env/lib/python3.8/site-packages (from ipympl==0.6.2) (3.3.2)\n",
      "Requirement already satisfied: ipywidgets>=7.6.0 in ./book_env/lib/python3.8/site-packages (from ipympl==0.6.2) (8.0.2)\n",
      "Requirement already satisfied: appnope in ./book_env/lib/python3.8/site-packages (from ipykernel>=4.7->ipympl==0.6.2) (0.1.3)\n",
      "Requirement already satisfied: ipython>=7.23.1 in ./book_env/lib/python3.8/site-packages (from ipykernel>=4.7->ipympl==0.6.2) (8.5.0)\n",
      "Requirement already satisfied: traitlets>=5.1.0 in ./book_env/lib/python3.8/site-packages (from ipykernel>=4.7->ipympl==0.6.2) (5.3.0)\n",
      "Requirement already satisfied: matplotlib-inline>=0.1 in ./book_env/lib/python3.8/site-packages (from ipykernel>=4.7->ipympl==0.6.2) (0.1.6)\n",
      "Requirement already satisfied: packaging in ./book_env/lib/python3.8/site-packages (from ipykernel>=4.7->ipympl==0.6.2) (21.3)\n",
      "Requirement already satisfied: psutil in ./book_env/lib/python3.8/site-packages (from ipykernel>=4.7->ipympl==0.6.2) (5.9.2)\n",
      "Requirement already satisfied: tornado>=6.1 in ./book_env/lib/python3.8/site-packages (from ipykernel>=4.7->ipympl==0.6.2) (6.2)\n",
      "Requirement already satisfied: pyzmq>=17 in ./book_env/lib/python3.8/site-packages (from ipykernel>=4.7->ipympl==0.6.2) (23.2.1)\n",
      "Requirement already satisfied: nest-asyncio in ./book_env/lib/python3.8/site-packages (from ipykernel>=4.7->ipympl==0.6.2) (1.5.5)\n",
      "Requirement already satisfied: debugpy>=1.0 in ./book_env/lib/python3.8/site-packages (from ipykernel>=4.7->ipympl==0.6.2) (1.6.3)\n",
      "Requirement already satisfied: jupyter-client>=6.1.12 in ./book_env/lib/python3.8/site-packages (from ipykernel>=4.7->ipympl==0.6.2) (7.3.5)\n",
      "Requirement already satisfied: widgetsnbextension~=4.0 in ./book_env/lib/python3.8/site-packages (from ipywidgets>=7.6.0->ipympl==0.6.2) (4.0.3)\n",
      "Requirement already satisfied: jupyterlab-widgets~=3.0 in ./book_env/lib/python3.8/site-packages (from ipywidgets>=7.6.0->ipympl==0.6.2) (3.0.3)\n",
      "Requirement already satisfied: pyparsing!=2.0.4,!=2.1.2,!=2.1.6,>=2.0.3 in ./book_env/lib/python3.8/site-packages (from matplotlib>=2.0.0->ipympl==0.6.2) (3.0.9)\n",
      "Requirement already satisfied: pillow>=6.2.0 in ./book_env/lib/python3.8/site-packages (from matplotlib>=2.0.0->ipympl==0.6.2) (9.2.0)\n",
      "Requirement already satisfied: cycler>=0.10 in ./book_env/lib/python3.8/site-packages (from matplotlib>=2.0.0->ipympl==0.6.2) (0.11.0)\n",
      "Requirement already satisfied: python-dateutil>=2.1 in ./book_env/lib/python3.8/site-packages (from matplotlib>=2.0.0->ipympl==0.6.2) (2.8.2)\n",
      "Requirement already satisfied: kiwisolver>=1.0.1 in ./book_env/lib/python3.8/site-packages (from matplotlib>=2.0.0->ipympl==0.6.2) (1.4.4)\n",
      "Requirement already satisfied: certifi>=2020.06.20 in ./book_env/lib/python3.8/site-packages (from matplotlib>=2.0.0->ipympl==0.6.2) (2022.6.15.1)\n",
      "Requirement already satisfied: numpy>=1.15 in ./book_env/lib/python3.8/site-packages (from matplotlib>=2.0.0->ipympl==0.6.2) (1.19.4)\n",
      "Requirement already satisfied: jedi>=0.16 in ./book_env/lib/python3.8/site-packages (from ipython>=7.23.1->ipykernel>=4.7->ipympl==0.6.2) (0.18.1)\n",
      "Requirement already satisfied: pygments>=2.4.0 in ./book_env/lib/python3.8/site-packages (from ipython>=7.23.1->ipykernel>=4.7->ipympl==0.6.2) (2.13.0)\n",
      "Requirement already satisfied: stack-data in ./book_env/lib/python3.8/site-packages (from ipython>=7.23.1->ipykernel>=4.7->ipympl==0.6.2) (0.5.0)\n",
      "Requirement already satisfied: decorator in ./book_env/lib/python3.8/site-packages (from ipython>=7.23.1->ipykernel>=4.7->ipympl==0.6.2) (5.1.1)\n",
      "Requirement already satisfied: pexpect>4.3 in ./book_env/lib/python3.8/site-packages (from ipython>=7.23.1->ipykernel>=4.7->ipympl==0.6.2) (4.8.0)\n",
      "Requirement already satisfied: pickleshare in ./book_env/lib/python3.8/site-packages (from ipython>=7.23.1->ipykernel>=4.7->ipympl==0.6.2) (0.7.5)\n",
      "Requirement already satisfied: backcall in ./book_env/lib/python3.8/site-packages (from ipython>=7.23.1->ipykernel>=4.7->ipympl==0.6.2) (0.2.0)\n",
      "Requirement already satisfied: prompt-toolkit<3.1.0,>3.0.1 in ./book_env/lib/python3.8/site-packages (from ipython>=7.23.1->ipykernel>=4.7->ipympl==0.6.2) (3.0.31)\n",
      "Requirement already satisfied: entrypoints in ./book_env/lib/python3.8/site-packages (from jupyter-client>=6.1.12->ipykernel>=4.7->ipympl==0.6.2) (0.4)\n",
      "Requirement already satisfied: jupyter-core>=4.9.2 in ./book_env/lib/python3.8/site-packages (from jupyter-client>=6.1.12->ipykernel>=4.7->ipympl==0.6.2) (4.11.1)\n",
      "Requirement already satisfied: six>=1.5 in ./book_env/lib/python3.8/site-packages (from python-dateutil>=2.1->matplotlib>=2.0.0->ipympl==0.6.2) (1.16.0)\n",
      "Requirement already satisfied: parso<0.9.0,>=0.8.0 in ./book_env/lib/python3.8/site-packages (from jedi>=0.16->ipython>=7.23.1->ipykernel>=4.7->ipympl==0.6.2) (0.8.3)\n",
      "Requirement already satisfied: ptyprocess>=0.5 in ./book_env/lib/python3.8/site-packages (from pexpect>4.3->ipython>=7.23.1->ipykernel>=4.7->ipympl==0.6.2) (0.7.0)\n",
      "Requirement already satisfied: wcwidth in ./book_env/lib/python3.8/site-packages (from prompt-toolkit<3.1.0,>3.0.1->ipython>=7.23.1->ipykernel>=4.7->ipympl==0.6.2) (0.2.5)\n",
      "Requirement already satisfied: asttokens in ./book_env/lib/python3.8/site-packages (from stack-data->ipython>=7.23.1->ipykernel>=4.7->ipympl==0.6.2) (2.0.8)\n",
      "Requirement already satisfied: pure-eval in ./book_env/lib/python3.8/site-packages (from stack-data->ipython>=7.23.1->ipykernel>=4.7->ipympl==0.6.2) (0.2.2)\n",
      "Requirement already satisfied: executing in ./book_env/lib/python3.8/site-packages (from stack-data->ipython>=7.23.1->ipykernel>=4.7->ipympl==0.6.2) (1.0.0)\n"
     ]
    }
   ],
   "source": [
    "!pip install ipympl==0.6.2"
   ]
  },
  {
   "cell_type": "code",
   "execution_count": 10,
   "metadata": {},
   "outputs": [
    {
     "name": "stdout",
     "output_type": "stream",
     "text": [
      "Requirement already satisfied: jupyterlab==3.0.4 in ./book_env/lib/python3.8/site-packages (3.0.4)\n",
      "Requirement already satisfied: tornado>=6.1.0 in ./book_env/lib/python3.8/site-packages (from jupyterlab==3.0.4) (6.2)\n",
      "Requirement already satisfied: jupyter-server~=1.2 in ./book_env/lib/python3.8/site-packages (from jupyterlab==3.0.4) (1.18.1)\n",
      "Requirement already satisfied: jinja2>=2.10 in ./book_env/lib/python3.8/site-packages (from jupyterlab==3.0.4) (3.1.2)\n",
      "Requirement already satisfied: jupyterlab-server~=2.0 in ./book_env/lib/python3.8/site-packages (from jupyterlab==3.0.4) (2.15.1)\n",
      "Requirement already satisfied: ipython in ./book_env/lib/python3.8/site-packages (from jupyterlab==3.0.4) (8.5.0)\n",
      "Requirement already satisfied: packaging in ./book_env/lib/python3.8/site-packages (from jupyterlab==3.0.4) (21.3)\n",
      "Requirement already satisfied: nbclassic~=0.2 in ./book_env/lib/python3.8/site-packages (from jupyterlab==3.0.4) (0.4.3)\n",
      "Requirement already satisfied: jupyter-core in ./book_env/lib/python3.8/site-packages (from jupyterlab==3.0.4) (4.11.1)\n",
      "Requirement already satisfied: MarkupSafe>=2.0 in ./book_env/lib/python3.8/site-packages (from jinja2>=2.10->jupyterlab==3.0.4) (2.1.1)\n",
      "Requirement already satisfied: Send2Trash in ./book_env/lib/python3.8/site-packages (from jupyter-server~=1.2->jupyterlab==3.0.4) (1.8.0)\n",
      "Requirement already satisfied: jupyter-client>=6.1.12 in ./book_env/lib/python3.8/site-packages (from jupyter-server~=1.2->jupyterlab==3.0.4) (7.3.5)\n",
      "Requirement already satisfied: nbformat>=5.2.0 in ./book_env/lib/python3.8/site-packages (from jupyter-server~=1.2->jupyterlab==3.0.4) (5.4.0)\n",
      "Requirement already satisfied: traitlets>=5.1 in ./book_env/lib/python3.8/site-packages (from jupyter-server~=1.2->jupyterlab==3.0.4) (5.3.0)\n",
      "Requirement already satisfied: nbconvert>=6.4.4 in ./book_env/lib/python3.8/site-packages (from jupyter-server~=1.2->jupyterlab==3.0.4) (7.0.0)\n",
      "Requirement already satisfied: argon2-cffi in ./book_env/lib/python3.8/site-packages (from jupyter-server~=1.2->jupyterlab==3.0.4) (21.3.0)\n",
      "Requirement already satisfied: websocket-client in ./book_env/lib/python3.8/site-packages (from jupyter-server~=1.2->jupyterlab==3.0.4) (1.4.1)\n",
      "Requirement already satisfied: anyio<4,>=3.1.0 in ./book_env/lib/python3.8/site-packages (from jupyter-server~=1.2->jupyterlab==3.0.4) (3.6.1)\n",
      "Requirement already satisfied: pyzmq>=17 in ./book_env/lib/python3.8/site-packages (from jupyter-server~=1.2->jupyterlab==3.0.4) (23.2.1)\n",
      "Requirement already satisfied: terminado>=0.8.3 in ./book_env/lib/python3.8/site-packages (from jupyter-server~=1.2->jupyterlab==3.0.4) (0.15.0)\n",
      "Requirement already satisfied: prometheus-client in ./book_env/lib/python3.8/site-packages (from jupyter-server~=1.2->jupyterlab==3.0.4) (0.14.1)\n",
      "Requirement already satisfied: jsonschema>=3.0.1 in ./book_env/lib/python3.8/site-packages (from jupyterlab-server~=2.0->jupyterlab==3.0.4) (4.16.0)\n",
      "Requirement already satisfied: requests in ./book_env/lib/python3.8/site-packages (from jupyterlab-server~=2.0->jupyterlab==3.0.4) (2.24.0)\n",
      "Requirement already satisfied: babel in ./book_env/lib/python3.8/site-packages (from jupyterlab-server~=2.0->jupyterlab==3.0.4) (2.10.3)\n",
      "Requirement already satisfied: importlib-metadata>=3.6 in ./book_env/lib/python3.8/site-packages (from jupyterlab-server~=2.0->jupyterlab==3.0.4) (4.12.0)\n",
      "Requirement already satisfied: json5 in ./book_env/lib/python3.8/site-packages (from jupyterlab-server~=2.0->jupyterlab==3.0.4) (0.9.10)\n",
      "Requirement already satisfied: nest-asyncio>=1.5 in ./book_env/lib/python3.8/site-packages (from nbclassic~=0.2->jupyterlab==3.0.4) (1.5.5)\n",
      "Requirement already satisfied: ipykernel in ./book_env/lib/python3.8/site-packages (from nbclassic~=0.2->jupyterlab==3.0.4) (6.15.2)\n",
      "Requirement already satisfied: ipython-genutils in ./book_env/lib/python3.8/site-packages (from nbclassic~=0.2->jupyterlab==3.0.4) (0.2.0)\n",
      "Requirement already satisfied: notebook-shim>=0.1.0 in ./book_env/lib/python3.8/site-packages (from nbclassic~=0.2->jupyterlab==3.0.4) (0.1.0)\n",
      "Requirement already satisfied: jedi>=0.16 in ./book_env/lib/python3.8/site-packages (from ipython->jupyterlab==3.0.4) (0.18.1)\n",
      "Requirement already satisfied: pygments>=2.4.0 in ./book_env/lib/python3.8/site-packages (from ipython->jupyterlab==3.0.4) (2.13.0)\n",
      "Requirement already satisfied: stack-data in ./book_env/lib/python3.8/site-packages (from ipython->jupyterlab==3.0.4) (0.5.0)\n",
      "Requirement already satisfied: decorator in ./book_env/lib/python3.8/site-packages (from ipython->jupyterlab==3.0.4) (5.1.1)\n",
      "Requirement already satisfied: pexpect>4.3 in ./book_env/lib/python3.8/site-packages (from ipython->jupyterlab==3.0.4) (4.8.0)\n",
      "Requirement already satisfied: prompt-toolkit<3.1.0,>3.0.1 in ./book_env/lib/python3.8/site-packages (from ipython->jupyterlab==3.0.4) (3.0.31)\n",
      "Requirement already satisfied: matplotlib-inline in ./book_env/lib/python3.8/site-packages (from ipython->jupyterlab==3.0.4) (0.1.6)\n",
      "Requirement already satisfied: appnope in ./book_env/lib/python3.8/site-packages (from ipython->jupyterlab==3.0.4) (0.1.3)\n",
      "Requirement already satisfied: pickleshare in ./book_env/lib/python3.8/site-packages (from ipython->jupyterlab==3.0.4) (0.7.5)\n",
      "Requirement already satisfied: backcall in ./book_env/lib/python3.8/site-packages (from ipython->jupyterlab==3.0.4) (0.2.0)\n",
      "Requirement already satisfied: pyparsing!=3.0.5,>=2.0.2 in ./book_env/lib/python3.8/site-packages (from packaging->jupyterlab==3.0.4) (3.0.9)\n",
      "Requirement already satisfied: sniffio>=1.1 in ./book_env/lib/python3.8/site-packages (from anyio<4,>=3.1.0->jupyter-server~=1.2->jupyterlab==3.0.4) (1.3.0)\n",
      "Requirement already satisfied: idna>=2.8 in ./book_env/lib/python3.8/site-packages (from anyio<4,>=3.1.0->jupyter-server~=1.2->jupyterlab==3.0.4) (2.10)\n",
      "Requirement already satisfied: zipp>=0.5 in ./book_env/lib/python3.8/site-packages (from importlib-metadata>=3.6->jupyterlab-server~=2.0->jupyterlab==3.0.4) (3.8.1)\n",
      "Requirement already satisfied: parso<0.9.0,>=0.8.0 in ./book_env/lib/python3.8/site-packages (from jedi>=0.16->ipython->jupyterlab==3.0.4) (0.8.3)\n",
      "Requirement already satisfied: importlib-resources>=1.4.0 in ./book_env/lib/python3.8/site-packages (from jsonschema>=3.0.1->jupyterlab-server~=2.0->jupyterlab==3.0.4) (5.9.0)\n",
      "Requirement already satisfied: attrs>=17.4.0 in ./book_env/lib/python3.8/site-packages (from jsonschema>=3.0.1->jupyterlab-server~=2.0->jupyterlab==3.0.4) (22.1.0)\n",
      "Requirement already satisfied: pkgutil-resolve-name>=1.3.10 in ./book_env/lib/python3.8/site-packages (from jsonschema>=3.0.1->jupyterlab-server~=2.0->jupyterlab==3.0.4) (1.3.10)\n",
      "Requirement already satisfied: pyrsistent!=0.17.0,!=0.17.1,!=0.17.2,>=0.14.0 in ./book_env/lib/python3.8/site-packages (from jsonschema>=3.0.1->jupyterlab-server~=2.0->jupyterlab==3.0.4) (0.18.1)\n",
      "Requirement already satisfied: entrypoints in ./book_env/lib/python3.8/site-packages (from jupyter-client>=6.1.12->jupyter-server~=1.2->jupyterlab==3.0.4) (0.4)\n",
      "Requirement already satisfied: python-dateutil>=2.8.2 in ./book_env/lib/python3.8/site-packages (from jupyter-client>=6.1.12->jupyter-server~=1.2->jupyterlab==3.0.4) (2.8.2)\n",
      "Requirement already satisfied: mistune<3,>=2.0.3 in ./book_env/lib/python3.8/site-packages (from nbconvert>=6.4.4->jupyter-server~=1.2->jupyterlab==3.0.4) (2.0.4)\n",
      "Requirement already satisfied: nbclient>=0.5.0 in ./book_env/lib/python3.8/site-packages (from nbconvert>=6.4.4->jupyter-server~=1.2->jupyterlab==3.0.4) (0.6.8)\n",
      "Requirement already satisfied: pandocfilters>=1.4.1 in ./book_env/lib/python3.8/site-packages (from nbconvert>=6.4.4->jupyter-server~=1.2->jupyterlab==3.0.4) (1.5.0)\n",
      "Requirement already satisfied: tinycss2 in ./book_env/lib/python3.8/site-packages (from nbconvert>=6.4.4->jupyter-server~=1.2->jupyterlab==3.0.4) (1.1.1)\n",
      "Requirement already satisfied: lxml in ./book_env/lib/python3.8/site-packages (from nbconvert>=6.4.4->jupyter-server~=1.2->jupyterlab==3.0.4) (4.9.1)\n",
      "Requirement already satisfied: jupyterlab-pygments in ./book_env/lib/python3.8/site-packages (from nbconvert>=6.4.4->jupyter-server~=1.2->jupyterlab==3.0.4) (0.2.2)\n",
      "Requirement already satisfied: beautifulsoup4 in ./book_env/lib/python3.8/site-packages (from nbconvert>=6.4.4->jupyter-server~=1.2->jupyterlab==3.0.4) (4.11.1)\n",
      "Requirement already satisfied: defusedxml in ./book_env/lib/python3.8/site-packages (from nbconvert>=6.4.4->jupyter-server~=1.2->jupyterlab==3.0.4) (0.7.1)\n",
      "Requirement already satisfied: bleach in ./book_env/lib/python3.8/site-packages (from nbconvert>=6.4.4->jupyter-server~=1.2->jupyterlab==3.0.4) (5.0.1)\n",
      "Requirement already satisfied: fastjsonschema in ./book_env/lib/python3.8/site-packages (from nbformat>=5.2.0->jupyter-server~=1.2->jupyterlab==3.0.4) (2.16.1)\n",
      "Requirement already satisfied: ptyprocess>=0.5 in ./book_env/lib/python3.8/site-packages (from pexpect>4.3->ipython->jupyterlab==3.0.4) (0.7.0)\n",
      "Requirement already satisfied: wcwidth in ./book_env/lib/python3.8/site-packages (from prompt-toolkit<3.1.0,>3.0.1->ipython->jupyterlab==3.0.4) (0.2.5)\n",
      "Requirement already satisfied: argon2-cffi-bindings in ./book_env/lib/python3.8/site-packages (from argon2-cffi->jupyter-server~=1.2->jupyterlab==3.0.4) (21.2.0)\n",
      "Requirement already satisfied: pytz>=2015.7 in ./book_env/lib/python3.8/site-packages (from babel->jupyterlab-server~=2.0->jupyterlab==3.0.4) (2022.2.1)\n",
      "Requirement already satisfied: psutil in ./book_env/lib/python3.8/site-packages (from ipykernel->nbclassic~=0.2->jupyterlab==3.0.4) (5.9.2)\n",
      "Requirement already satisfied: debugpy>=1.0 in ./book_env/lib/python3.8/site-packages (from ipykernel->nbclassic~=0.2->jupyterlab==3.0.4) (1.6.3)\n",
      "Requirement already satisfied: urllib3!=1.25.0,!=1.25.1,<1.26,>=1.21.1 in ./book_env/lib/python3.8/site-packages (from requests->jupyterlab-server~=2.0->jupyterlab==3.0.4) (1.25.11)\n",
      "Requirement already satisfied: certifi>=2017.4.17 in ./book_env/lib/python3.8/site-packages (from requests->jupyterlab-server~=2.0->jupyterlab==3.0.4) (2022.6.15.1)\n",
      "Requirement already satisfied: chardet<4,>=3.0.2 in ./book_env/lib/python3.8/site-packages (from requests->jupyterlab-server~=2.0->jupyterlab==3.0.4) (3.0.4)\n",
      "Requirement already satisfied: asttokens in ./book_env/lib/python3.8/site-packages (from stack-data->ipython->jupyterlab==3.0.4) (2.0.8)\n",
      "Requirement already satisfied: executing in ./book_env/lib/python3.8/site-packages (from stack-data->ipython->jupyterlab==3.0.4) (1.0.0)\n",
      "Requirement already satisfied: pure-eval in ./book_env/lib/python3.8/site-packages (from stack-data->ipython->jupyterlab==3.0.4) (0.2.2)\n",
      "Requirement already satisfied: six>=1.5 in ./book_env/lib/python3.8/site-packages (from python-dateutil>=2.8.2->jupyter-client>=6.1.12->jupyter-server~=1.2->jupyterlab==3.0.4) (1.16.0)\n",
      "Requirement already satisfied: cffi>=1.0.1 in ./book_env/lib/python3.8/site-packages (from argon2-cffi-bindings->argon2-cffi->jupyter-server~=1.2->jupyterlab==3.0.4) (1.15.1)\n",
      "Requirement already satisfied: soupsieve>1.2 in ./book_env/lib/python3.8/site-packages (from beautifulsoup4->nbconvert>=6.4.4->jupyter-server~=1.2->jupyterlab==3.0.4) (2.3.2.post1)\n",
      "Requirement already satisfied: webencodings in ./book_env/lib/python3.8/site-packages (from bleach->nbconvert>=6.4.4->jupyter-server~=1.2->jupyterlab==3.0.4) (0.5.1)\n",
      "Requirement already satisfied: pycparser in ./book_env/lib/python3.8/site-packages (from cffi>=1.0.1->argon2-cffi-bindings->argon2-cffi->jupyter-server~=1.2->jupyterlab==3.0.4) (2.21)\n"
     ]
    }
   ],
   "source": [
    "!pip install jupyterlab==3.0.4"
   ]
  },
  {
   "cell_type": "code",
   "execution_count": 11,
   "metadata": {},
   "outputs": [
    {
     "name": "stdout",
     "output_type": "stream",
     "text": [
      "Requirement already satisfied: matplotlib==3.3.2 in ./book_env/lib/python3.8/site-packages (3.3.2)\n",
      "Requirement already satisfied: pyparsing!=2.0.4,!=2.1.2,!=2.1.6,>=2.0.3 in ./book_env/lib/python3.8/site-packages (from matplotlib==3.3.2) (3.0.9)\n",
      "Requirement already satisfied: python-dateutil>=2.1 in ./book_env/lib/python3.8/site-packages (from matplotlib==3.3.2) (2.8.2)\n",
      "Requirement already satisfied: cycler>=0.10 in ./book_env/lib/python3.8/site-packages (from matplotlib==3.3.2) (0.11.0)\n",
      "Requirement already satisfied: kiwisolver>=1.0.1 in ./book_env/lib/python3.8/site-packages (from matplotlib==3.3.2) (1.4.4)\n",
      "Requirement already satisfied: numpy>=1.15 in ./book_env/lib/python3.8/site-packages (from matplotlib==3.3.2) (1.19.4)\n",
      "Requirement already satisfied: certifi>=2020.06.20 in ./book_env/lib/python3.8/site-packages (from matplotlib==3.3.2) (2022.6.15.1)\n",
      "Requirement already satisfied: pillow>=6.2.0 in ./book_env/lib/python3.8/site-packages (from matplotlib==3.3.2) (9.2.0)\n",
      "Requirement already satisfied: six>=1.5 in ./book_env/lib/python3.8/site-packages (from python-dateutil>=2.1->matplotlib==3.3.2) (1.16.0)\n"
     ]
    }
   ],
   "source": [
    "!pip install matplotlib==3.3.2"
   ]
  },
  {
   "cell_type": "code",
   "execution_count": 13,
   "metadata": {},
   "outputs": [
    {
     "name": "stdout",
     "output_type": "stream",
     "text": [
      "Requirement already satisfied: numpy<=1.19.4,>=1.19.2 in ./book_env/lib/python3.8/site-packages (1.19.4)\n"
     ]
    }
   ],
   "source": [
    "!pip install numpy'>=1.19.2,<=1.19.4'"
   ]
  },
  {
   "cell_type": "code",
   "execution_count": 14,
   "metadata": {},
   "outputs": [
    {
     "name": "stdout",
     "output_type": "stream",
     "text": [
      "Requirement already satisfied: pandas==1.2.0 in ./book_env/lib/python3.8/site-packages (1.2.0)\n",
      "Requirement already satisfied: numpy>=1.16.5 in ./book_env/lib/python3.8/site-packages (from pandas==1.2.0) (1.19.4)\n",
      "Requirement already satisfied: python-dateutil>=2.7.3 in ./book_env/lib/python3.8/site-packages (from pandas==1.2.0) (2.8.2)\n",
      "Requirement already satisfied: pytz>=2017.3 in ./book_env/lib/python3.8/site-packages (from pandas==1.2.0) (2022.2.1)\n",
      "Requirement already satisfied: six>=1.5 in ./book_env/lib/python3.8/site-packages (from python-dateutil>=2.7.3->pandas==1.2.0) (1.16.0)\n"
     ]
    }
   ],
   "source": [
    "!pip install pandas==1.2.0"
   ]
  },
  {
   "cell_type": "code",
   "execution_count": 15,
   "metadata": {},
   "outputs": [
    {
     "name": "stdout",
     "output_type": "stream",
     "text": [
      "Requirement already satisfied: requests==2.24.0 in ./book_env/lib/python3.8/site-packages (2.24.0)\n",
      "Requirement already satisfied: certifi>=2017.4.17 in ./book_env/lib/python3.8/site-packages (from requests==2.24.0) (2022.6.15.1)\n",
      "Requirement already satisfied: idna<3,>=2.5 in ./book_env/lib/python3.8/site-packages (from requests==2.24.0) (2.10)\n",
      "Requirement already satisfied: urllib3!=1.25.0,!=1.25.1,<1.26,>=1.21.1 in ./book_env/lib/python3.8/site-packages (from requests==2.24.0) (1.25.11)\n",
      "Requirement already satisfied: chardet<4,>=3.0.2 in ./book_env/lib/python3.8/site-packages (from requests==2.24.0) (3.0.4)\n"
     ]
    }
   ],
   "source": [
    "!pip install requests==2.24.0"
   ]
  },
  {
   "cell_type": "code",
   "execution_count": 16,
   "metadata": {},
   "outputs": [
    {
     "name": "stdout",
     "output_type": "stream",
     "text": [
      "Requirement already satisfied: scikit-learn==0.23.2 in ./book_env/lib/python3.8/site-packages (0.23.2)\n",
      "Requirement already satisfied: scipy>=0.19.1 in ./book_env/lib/python3.8/site-packages (from scikit-learn==0.23.2) (1.7.3)\n",
      "Requirement already satisfied: numpy>=1.13.3 in ./book_env/lib/python3.8/site-packages (from scikit-learn==0.23.2) (1.19.4)\n",
      "Requirement already satisfied: threadpoolctl>=2.0.0 in ./book_env/lib/python3.8/site-packages (from scikit-learn==0.23.2) (3.1.0)\n",
      "Requirement already satisfied: joblib>=0.11 in ./book_env/lib/python3.8/site-packages (from scikit-learn==0.23.2) (1.1.0)\n"
     ]
    }
   ],
   "source": [
    "!pip install scikit-learn==0.23.2"
   ]
  },
  {
   "cell_type": "code",
   "execution_count": 17,
   "metadata": {},
   "outputs": [
    {
     "name": "stdout",
     "output_type": "stream",
     "text": [
      "Requirement already satisfied: scipy<=1.7.3,>=1.5.0 in ./book_env/lib/python3.8/site-packages (1.7.3)\n",
      "Requirement already satisfied: numpy<1.23.0,>=1.16.5 in ./book_env/lib/python3.8/site-packages (from scipy<=1.7.3,>=1.5.0) (1.19.4)\n"
     ]
    }
   ],
   "source": [
    "!pip install scipy'>=1.5.0,<=1.7.3'"
   ]
  },
  {
   "cell_type": "code",
   "execution_count": 18,
   "metadata": {},
   "outputs": [
    {
     "name": "stdout",
     "output_type": "stream",
     "text": [
      "Requirement already satisfied: seaborn==0.11.0 in ./book_env/lib/python3.8/site-packages (0.11.0)\n",
      "Requirement already satisfied: matplotlib>=2.2 in ./book_env/lib/python3.8/site-packages (from seaborn==0.11.0) (3.3.2)\n",
      "Requirement already satisfied: pandas>=0.23 in ./book_env/lib/python3.8/site-packages (from seaborn==0.11.0) (1.2.0)\n",
      "Requirement already satisfied: numpy>=1.15 in ./book_env/lib/python3.8/site-packages (from seaborn==0.11.0) (1.19.4)\n",
      "Requirement already satisfied: scipy>=1.0 in ./book_env/lib/python3.8/site-packages (from seaborn==0.11.0) (1.7.3)\n",
      "Requirement already satisfied: pillow>=6.2.0 in ./book_env/lib/python3.8/site-packages (from matplotlib>=2.2->seaborn==0.11.0) (9.2.0)\n",
      "Requirement already satisfied: certifi>=2020.06.20 in ./book_env/lib/python3.8/site-packages (from matplotlib>=2.2->seaborn==0.11.0) (2022.6.15.1)\n",
      "Requirement already satisfied: python-dateutil>=2.1 in ./book_env/lib/python3.8/site-packages (from matplotlib>=2.2->seaborn==0.11.0) (2.8.2)\n",
      "Requirement already satisfied: kiwisolver>=1.0.1 in ./book_env/lib/python3.8/site-packages (from matplotlib>=2.2->seaborn==0.11.0) (1.4.4)\n",
      "Requirement already satisfied: cycler>=0.10 in ./book_env/lib/python3.8/site-packages (from matplotlib>=2.2->seaborn==0.11.0) (0.11.0)\n",
      "Requirement already satisfied: pyparsing!=2.0.4,!=2.1.2,!=2.1.6,>=2.0.3 in ./book_env/lib/python3.8/site-packages (from matplotlib>=2.2->seaborn==0.11.0) (3.0.9)\n",
      "Requirement already satisfied: pytz>=2017.3 in ./book_env/lib/python3.8/site-packages (from pandas>=0.23->seaborn==0.11.0) (2022.2.1)\n",
      "Requirement already satisfied: six>=1.5 in ./book_env/lib/python3.8/site-packages (from python-dateutil>=2.1->matplotlib>=2.2->seaborn==0.11.0) (1.16.0)\n"
     ]
    }
   ],
   "source": [
    "!pip install seaborn==0.11.0"
   ]
  },
  {
   "cell_type": "code",
   "execution_count": 19,
   "metadata": {},
   "outputs": [
    {
     "name": "stdout",
     "output_type": "stream",
     "text": [
      "Requirement already satisfied: sqlalchemy<=1.3.20,>=1.3.19 in ./book_env/lib/python3.8/site-packages (1.3.20)\n"
     ]
    }
   ],
   "source": [
    "!pip install sqlalchemy'>=1.3.19,<=1.3.20'"
   ]
  },
  {
   "cell_type": "code",
   "execution_count": 20,
   "metadata": {},
   "outputs": [
    {
     "name": "stdout",
     "output_type": "stream",
     "text": [
      "Requirement already satisfied: statsmodels<=0.12.1,>=0.11.1 in ./book_env/lib/python3.8/site-packages (0.12.1)\n",
      "Requirement already satisfied: numpy>=1.15 in ./book_env/lib/python3.8/site-packages (from statsmodels<=0.12.1,>=0.11.1) (1.19.4)\n",
      "Requirement already satisfied: scipy>=1.1 in ./book_env/lib/python3.8/site-packages (from statsmodels<=0.12.1,>=0.11.1) (1.7.3)\n",
      "Requirement already satisfied: pandas>=0.21 in ./book_env/lib/python3.8/site-packages (from statsmodels<=0.12.1,>=0.11.1) (1.2.0)\n",
      "Requirement already satisfied: patsy>=0.5 in ./book_env/lib/python3.8/site-packages (from statsmodels<=0.12.1,>=0.11.1) (0.5.2)\n",
      "Requirement already satisfied: pytz>=2017.3 in ./book_env/lib/python3.8/site-packages (from pandas>=0.21->statsmodels<=0.12.1,>=0.11.1) (2022.2.1)\n",
      "Requirement already satisfied: python-dateutil>=2.7.3 in ./book_env/lib/python3.8/site-packages (from pandas>=0.21->statsmodels<=0.12.1,>=0.11.1) (2.8.2)\n",
      "Requirement already satisfied: six in ./book_env/lib/python3.8/site-packages (from patsy>=0.5->statsmodels<=0.12.1,>=0.11.1) (1.16.0)\n"
     ]
    }
   ],
   "source": [
    "!pip install statsmodels'>=0.11.1,<=0.12.1'"
   ]
  },
  {
   "cell_type": "code",
   "execution_count": 21,
   "metadata": {},
   "outputs": [
    {
     "name": "stdout",
     "output_type": "stream",
     "text": [
      "Requirement already satisfied: statsmodels<=0.12.1,>=0.11.1 in ./book_env/lib/python3.8/site-packages (0.12.1)\n",
      "Requirement already satisfied: numpy>=1.15 in ./book_env/lib/python3.8/site-packages (from statsmodels<=0.12.1,>=0.11.1) (1.19.4)\n",
      "Requirement already satisfied: scipy>=1.1 in ./book_env/lib/python3.8/site-packages (from statsmodels<=0.12.1,>=0.11.1) (1.7.3)\n",
      "Requirement already satisfied: patsy>=0.5 in ./book_env/lib/python3.8/site-packages (from statsmodels<=0.12.1,>=0.11.1) (0.5.2)\n",
      "Requirement already satisfied: pandas>=0.21 in ./book_env/lib/python3.8/site-packages (from statsmodels<=0.12.1,>=0.11.1) (1.2.0)\n",
      "Requirement already satisfied: pytz>=2017.3 in ./book_env/lib/python3.8/site-packages (from pandas>=0.21->statsmodels<=0.12.1,>=0.11.1) (2022.2.1)\n",
      "Requirement already satisfied: python-dateutil>=2.7.3 in ./book_env/lib/python3.8/site-packages (from pandas>=0.21->statsmodels<=0.12.1,>=0.11.1) (2.8.2)\n",
      "Requirement already satisfied: six in ./book_env/lib/python3.8/site-packages (from patsy>=0.5->statsmodels<=0.12.1,>=0.11.1) (1.16.0)\n"
     ]
    }
   ],
   "source": [
    "!pip install statsmodels'>=0.11.1,<=0.12.1'"
   ]
  },
  {
   "cell_type": "code",
   "execution_count": 24,
   "metadata": {},
   "outputs": [
    {
     "name": "stdout",
     "output_type": "stream",
     "text": [
      "usage: wheel [-h] {unpack,pack,convert,version,help} ...\n",
      "wheel: error: invalid choice: 'git+https://github.com/stefmolin/login-attempt-simulator.git@2nd_edition' (choose from 'unpack', 'pack', 'convert', 'version', 'help')\n"
     ]
    }
   ],
   "source": [
    "!wheel git+https://github.com/stefmolin/login-attempt-simulator.git@2nd_edition"
   ]
  },
  {
   "cell_type": "code",
   "execution_count": 26,
   "metadata": {},
   "outputs": [
    {
     "name": "stdout",
     "output_type": "stream",
     "text": [
      "zsh:1: permission denied: ./visual-aids\n"
     ]
    }
   ],
   "source": [
    "!./visual-aids"
   ]
  },
  {
   "cell_type": "code",
   "execution_count": null,
   "metadata": {},
   "outputs": [],
   "source": []
  }
 ],
 "metadata": {
  "kernelspec": {
   "display_name": "book_env",
   "language": "python",
   "name": "book_env"
  },
  "language_info": {
   "codemirror_mode": {
    "name": "ipython",
    "version": 3
   },
   "file_extension": ".py",
   "mimetype": "text/x-python",
   "name": "python",
   "nbconvert_exporter": "python",
   "pygments_lexer": "ipython3",
   "version": "3.8.2"
  }
 },
 "nbformat": 4,
 "nbformat_minor": 4
}
